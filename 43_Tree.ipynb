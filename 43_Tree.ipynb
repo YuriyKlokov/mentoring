{
 "cells": [
  {
   "cell_type": "code",
   "execution_count": 55,
   "id": "4d4ff4cb",
   "metadata": {},
   "outputs": [
    {
     "name": "stderr",
     "output_type": "stream",
     "text": [
      "[nltk_data] Downloading package stopwords to\n",
      "[nltk_data]     C:\\Users\\yuriy\\AppData\\Roaming\\nltk_data...\n",
      "[nltk_data]   Package stopwords is already up-to-date!\n",
      "[nltk_data] Downloading package punkt to\n",
      "[nltk_data]     C:\\Users\\yuriy\\AppData\\Roaming\\nltk_data...\n",
      "[nltk_data]   Package punkt is already up-to-date!\n"
     ]
    }
   ],
   "source": [
    "import pandas as pd\n",
    "from sklearn.model_selection import train_test_split\n",
    "import nltk\n",
    "import string\n",
    "from nltk.corpus import stopwords\n",
    "from nltk.tokenize import word_tokenize\n",
    "from nltk.stem import SnowballStemmer\n",
    "nltk.download(\"stopwords\")\n",
    "nltk.download('punkt')\n",
    "from sklearn.feature_extraction.text import TfidfVectorizer\n",
    "from sklearn.metrics import precision_score, recall_score, classification_report\n",
    "from sklearn.naive_bayes import MultinomialNB\n",
    "from sklearn.model_selection import train_test_split\n",
    "from sklearn.pipeline import Pipeline\n",
    "from sklearn.model_selection import cross_val_score\n",
    "from sklearn.model_selection import GridSearchCV\n",
    "from sklearn.tree import DecisionTreeClassifier\n",
    "from sklearn import svm"
   ]
  },
  {
   "cell_type": "code",
   "execution_count": 56,
   "id": "5fea4b95",
   "metadata": {},
   "outputs": [],
   "source": [
    "input_data = pd.read_csv(r\"C:\\Users\\yuriy\\Downloads\\ecommerce_data_set.csv\", sep=\",\", header=None)"
   ]
  },
  {
   "cell_type": "code",
   "execution_count": 57,
   "id": "a0184bc4",
   "metadata": {},
   "outputs": [
    {
     "data": {
      "text/html": [
       "<div>\n",
       "<style scoped>\n",
       "    .dataframe tbody tr th:only-of-type {\n",
       "        vertical-align: middle;\n",
       "    }\n",
       "\n",
       "    .dataframe tbody tr th {\n",
       "        vertical-align: top;\n",
       "    }\n",
       "\n",
       "    .dataframe thead th {\n",
       "        text-align: right;\n",
       "    }\n",
       "</style>\n",
       "<table border=\"1\" class=\"dataframe\">\n",
       "  <thead>\n",
       "    <tr style=\"text-align: right;\">\n",
       "      <th></th>\n",
       "      <th>class_type</th>\n",
       "      <th>naming</th>\n",
       "    </tr>\n",
       "  </thead>\n",
       "  <tbody>\n",
       "    <tr>\n",
       "      <th>0</th>\n",
       "      <td>Household</td>\n",
       "      <td>Paper Plane Design Framed Wall Hanging Motivat...</td>\n",
       "    </tr>\n",
       "    <tr>\n",
       "      <th>1</th>\n",
       "      <td>Household</td>\n",
       "      <td>SAF 'Floral' Framed Painting (Wood, 30 inch x ...</td>\n",
       "    </tr>\n",
       "    <tr>\n",
       "      <th>2</th>\n",
       "      <td>Household</td>\n",
       "      <td>SAF 'UV Textured Modern Art Print Framed' Pain...</td>\n",
       "    </tr>\n",
       "    <tr>\n",
       "      <th>3</th>\n",
       "      <td>Household</td>\n",
       "      <td>SAF Flower Print Framed Painting (Synthetic, 1...</td>\n",
       "    </tr>\n",
       "    <tr>\n",
       "      <th>4</th>\n",
       "      <td>Household</td>\n",
       "      <td>Incredible Gifts India Wooden Happy Birthday U...</td>\n",
       "    </tr>\n",
       "    <tr>\n",
       "      <th>5</th>\n",
       "      <td>Household</td>\n",
       "      <td>Pitaara Box Romantic Venice Canvas Painting 6m...</td>\n",
       "    </tr>\n",
       "    <tr>\n",
       "      <th>6</th>\n",
       "      <td>Household</td>\n",
       "      <td>Paper Plane Design Starry Night Vangoh Wall Ar...</td>\n",
       "    </tr>\n",
       "    <tr>\n",
       "      <th>7</th>\n",
       "      <td>Household</td>\n",
       "      <td>Pitaara Box Romantic Venice Canvas Painting 6m...</td>\n",
       "    </tr>\n",
       "    <tr>\n",
       "      <th>8</th>\n",
       "      <td>Household</td>\n",
       "      <td>SAF 'Ganesh Modern Art Print' Painting (Synthe...</td>\n",
       "    </tr>\n",
       "    <tr>\n",
       "      <th>9</th>\n",
       "      <td>Household</td>\n",
       "      <td>Paintings Villa UV Textured Modern Art Print F...</td>\n",
       "    </tr>\n",
       "  </tbody>\n",
       "</table>\n",
       "</div>"
      ],
      "text/plain": [
       "  class_type                                             naming\n",
       "0  Household  Paper Plane Design Framed Wall Hanging Motivat...\n",
       "1  Household  SAF 'Floral' Framed Painting (Wood, 30 inch x ...\n",
       "2  Household  SAF 'UV Textured Modern Art Print Framed' Pain...\n",
       "3  Household  SAF Flower Print Framed Painting (Synthetic, 1...\n",
       "4  Household  Incredible Gifts India Wooden Happy Birthday U...\n",
       "5  Household  Pitaara Box Romantic Venice Canvas Painting 6m...\n",
       "6  Household  Paper Plane Design Starry Night Vangoh Wall Ar...\n",
       "7  Household  Pitaara Box Romantic Venice Canvas Painting 6m...\n",
       "8  Household  SAF 'Ganesh Modern Art Print' Painting (Synthe...\n",
       "9  Household  Paintings Villa UV Textured Modern Art Print F..."
      ]
     },
     "execution_count": 57,
     "metadata": {},
     "output_type": "execute_result"
    }
   ],
   "source": [
    "input_data.columns = ['class_type', 'naming']\n",
    "input_data = input_data.dropna(subset=['naming'])\n",
    "input_data.head(10)"
   ]
  },
  {
   "cell_type": "code",
   "execution_count": 58,
   "id": "8611c8a7",
   "metadata": {},
   "outputs": [],
   "source": [
    "x_train, x_test, y_train, y_test = train_test_split(input_data['naming'], input_data['class_type'], test_size=0.3, random_state=1)"
   ]
  },
  {
   "cell_type": "code",
   "execution_count": 59,
   "id": "1a025400",
   "metadata": {},
   "outputs": [],
   "source": [
    "def tokenizer(sentence: str, lang: str = 'english'):\n",
    "    stop_words = stopwords.words(lang)\n",
    "    snowball = SnowballStemmer(language=lang)\n",
    "    tokens = word_tokenize(sentence, language=lang)\n",
    "    tokens = [i for i in tokens if i not in string.punctuation]\n",
    "    tokens = [i for i in tokens if i not in stop_words]\n",
    "    tokens = [snowball.stem(i) for i in tokens]\n",
    "    return tokens"
   ]
  },
  {
   "cell_type": "code",
   "execution_count": 60,
   "id": "f76757e3",
   "metadata": {},
   "outputs": [],
   "source": [
    "model_pipeline = Pipeline([\n",
    "    ('vectorizer', TfidfVectorizer(tokenizer=lambda x: tokenizer(x))),\n",
    "    ('model', DecisionTreeClassifier(\n",
    "        criterion='gini',  # Выберите нужный критерий (gini или entropy)\n",
    "        max_depth=5,       # Настройте максимальную глубину\n",
    "        min_samples_split=2,\n",
    "        min_samples_leaf=1,\n",
    "        max_features=None,\n",
    "        splitter='best',\n",
    "        min_impurity_decrease=0.0\n",
    "    ))\n",
    "]\n",
    ")"
   ]
  },
  {
   "cell_type": "code",
   "execution_count": 61,
   "id": "626daadf",
   "metadata": {},
   "outputs": [
    {
     "data": {
      "text/plain": [
       "Pipeline(steps=[('vectorizer',\n",
       "                 TfidfVectorizer(tokenizer=<function <lambda> at 0x000002711CB4F310>)),\n",
       "                ('model', DecisionTreeClassifier(max_depth=5))])"
      ]
     },
     "execution_count": 61,
     "metadata": {},
     "output_type": "execute_result"
    }
   ],
   "source": [
    "model_pipeline.fit(x_train, y_train)"
   ]
  },
  {
   "cell_type": "code",
   "execution_count": 62,
   "id": "2e72df92",
   "metadata": {},
   "outputs": [
    {
     "data": {
      "text/plain": [
       "array(['Household'], dtype=object)"
      ]
     },
     "execution_count": 62,
     "metadata": {},
     "output_type": "execute_result"
    }
   ],
   "source": [
    "model_pipeline.predict(['Asus tuf gaming motherboard'])"
   ]
  },
  {
   "cell_type": "code",
   "execution_count": 63,
   "id": "129114ee",
   "metadata": {},
   "outputs": [
    {
     "name": "stderr",
     "output_type": "stream",
     "text": [
      "C:\\Users\\yuriy\\anaconda3\\lib\\site-packages\\sklearn\\metrics\\_classification.py:1370: UserWarning: Note that pos_label (set to 'positive') is ignored when average != 'binary' (got 'micro'). You may use labels=[pos_label] to specify a single positive class.\n",
      "  warnings.warn(\n"
     ]
    },
    {
     "data": {
      "text/plain": [
       "0.6849550502379693"
      ]
     },
     "execution_count": 63,
     "metadata": {},
     "output_type": "execute_result"
    }
   ],
   "source": [
    "precision_score(y_true=y_test, y_pred=model_pipeline.predict(x_test), average='micro', pos_label='positive')"
   ]
  },
  {
   "cell_type": "code",
   "execution_count": 64,
   "id": "619f7330",
   "metadata": {},
   "outputs": [
    {
     "name": "stdout",
     "output_type": "stream",
     "text": [
      "                        precision    recall  f1-score   support\n",
      "\n",
      "                 Books       0.96      0.50      0.65      3460\n",
      "Clothing & Accessories       0.92      0.64      0.76      2562\n",
      "           Electronics       0.94      0.39      0.55      3168\n",
      "             Household       0.56      0.97      0.71      5938\n",
      "\n",
      "              accuracy                           0.68     15128\n",
      "             macro avg       0.85      0.62      0.67     15128\n",
      "          weighted avg       0.79      0.68      0.67     15128\n",
      "\n"
     ]
    }
   ],
   "source": [
    "print(classification_report(y_test, model_pipeline.predict(x_test)))"
   ]
  },
  {
   "cell_type": "code",
   "execution_count": 65,
   "id": "34117a96",
   "metadata": {},
   "outputs": [],
   "source": [
    "cv_result =  cross_val_score(model_pipeline, x_train, y_train, cv=5 )"
   ]
  },
  {
   "cell_type": "code",
   "execution_count": 66,
   "id": "d94c56d3",
   "metadata": {},
   "outputs": [
    {
     "name": "stdout",
     "output_type": "stream",
     "text": [
      "[0.67988669 0.67431648 0.67360816 0.68437456 0.6680833 ]\n"
     ]
    }
   ],
   "source": [
    "print(cv_result)"
   ]
  },
  {
   "cell_type": "code",
   "execution_count": null,
   "id": "500cb840",
   "metadata": {},
   "outputs": [],
   "source": []
  },
  {
   "cell_type": "code",
   "execution_count": null,
   "id": "8238a2ff",
   "metadata": {},
   "outputs": [],
   "source": []
  },
  {
   "cell_type": "code",
   "execution_count": null,
   "id": "74a4ea76",
   "metadata": {},
   "outputs": [],
   "source": []
  },
  {
   "cell_type": "markdown",
   "id": "dc5a916d",
   "metadata": {},
   "source": [
    "### Обучаем модель на наших данных"
   ]
  },
  {
   "cell_type": "code",
   "execution_count": 67,
   "id": "60228463",
   "metadata": {},
   "outputs": [],
   "source": [
    "input_data2 = pd.read_csv(r\"C:\\Users\\yuriy\\Downloads\\duty_stats_raw_data.csv\", sep=\",\")"
   ]
  },
  {
   "cell_type": "code",
   "execution_count": 68,
   "id": "2349da08",
   "metadata": {
    "scrolled": true
   },
   "outputs": [
    {
     "name": "stdout",
     "output_type": "stream",
     "text": [
      "<class 'pandas.core.frame.DataFrame'>\n",
      "RangeIndex: 235 entries, 0 to 234\n",
      "Data columns (total 9 columns):\n",
      " #   Column         Non-Null Count  Dtype \n",
      "---  ------         --------------  ----- \n",
      " 0   index          235 non-null    int64 \n",
      " 1   user_name      233 non-null    object\n",
      " 2   user_group_id  235 non-null    object\n",
      " 3   message        235 non-null    object\n",
      " 4   Task type      235 non-null    object\n",
      " 5   Task subtype   235 non-null    object\n",
      " 6   Resolution     235 non-null    object\n",
      " 7   event_date     235 non-null    object\n",
      " 8   task_status    235 non-null    object\n",
      "dtypes: int64(1), object(8)\n",
      "memory usage: 16.6+ KB\n"
     ]
    }
   ],
   "source": [
    "input_data2.info()"
   ]
  },
  {
   "cell_type": "code",
   "execution_count": 69,
   "id": "6573cd2b",
   "metadata": {},
   "outputs": [
    {
     "data": {
      "text/html": [
       "<div>\n",
       "<style scoped>\n",
       "    .dataframe tbody tr th:only-of-type {\n",
       "        vertical-align: middle;\n",
       "    }\n",
       "\n",
       "    .dataframe tbody tr th {\n",
       "        vertical-align: top;\n",
       "    }\n",
       "\n",
       "    .dataframe thead th {\n",
       "        text-align: right;\n",
       "    }\n",
       "</style>\n",
       "<table border=\"1\" class=\"dataframe\">\n",
       "  <thead>\n",
       "    <tr style=\"text-align: right;\">\n",
       "      <th></th>\n",
       "      <th>index</th>\n",
       "      <th>user_name</th>\n",
       "      <th>user_group_id</th>\n",
       "      <th>message</th>\n",
       "      <th>Task type</th>\n",
       "      <th>Task subtype</th>\n",
       "      <th>Resolution</th>\n",
       "      <th>event_date</th>\n",
       "      <th>task_status</th>\n",
       "    </tr>\n",
       "  </thead>\n",
       "  <tbody>\n",
       "    <tr>\n",
       "      <th>0</th>\n",
       "      <td>241</td>\n",
       "      <td>rostepanov</td>\n",
       "      <td>ASD Project</td>\n",
       "      <td>Привет!\\n в отчете [Аквизишн Овервью](https://...</td>\n",
       "      <td>Вопрос по данным</td>\n",
       "      <td>Вопрос по логике отчета</td>\n",
       "      <td>Ответ</td>\n",
       "      <td>2023-06-19</td>\n",
       "      <td>done</td>\n",
       "    </tr>\n",
       "    <tr>\n",
       "      <th>1</th>\n",
       "      <td>408</td>\n",
       "      <td>epkuznetsova</td>\n",
       "      <td>ASD Project</td>\n",
       "      <td>Привет!\\n Сейчас тестируем в команде Хантеры c...</td>\n",
       "      <td>Запрос на корректировку отчета / некорректная ...</td>\n",
       "      <td>Вопрос о возможности доработки отчета</td>\n",
       "      <td>Доработка не реальна на момент обращения</td>\n",
       "      <td>2023-08-17</td>\n",
       "      <td>done</td>\n",
       "    </tr>\n",
       "    <tr>\n",
       "      <th>2</th>\n",
       "      <td>237</td>\n",
       "      <td>assementsov</td>\n",
       "      <td>Analytic</td>\n",
       "      <td>Гриша, привет\\n подскажи пожалуйста, считаем л...</td>\n",
       "      <td>Вопрос по данным</td>\n",
       "      <td>Вопрос по данным битрикса</td>\n",
       "      <td>Ответ</td>\n",
       "      <td>2023-06-16</td>\n",
       "      <td>done</td>\n",
       "    </tr>\n",
       "    <tr>\n",
       "      <th>3</th>\n",
       "      <td>390</td>\n",
       "      <td>rostepanov</td>\n",
       "      <td>ASD Project</td>\n",
       "      <td>Коллеги, привет!\\n Отчет [Аквизишн овервью](ht...</td>\n",
       "      <td>Вопрос по данным</td>\n",
       "      <td>Вопрос по логике отчета</td>\n",
       "      <td>Ответ</td>\n",
       "      <td>2023-08-14</td>\n",
       "      <td>done</td>\n",
       "    </tr>\n",
       "    <tr>\n",
       "      <th>4</th>\n",
       "      <td>240</td>\n",
       "      <td>aadenisova</td>\n",
       "      <td>Analytic</td>\n",
       "      <td>Коллеги, привет! \\n Подскажите, где в витринах...</td>\n",
       "      <td>Вопрос по данным</td>\n",
       "      <td>Вопрос по логике витрины</td>\n",
       "      <td>Ответ</td>\n",
       "      <td>2023-06-16</td>\n",
       "      <td>done</td>\n",
       "    </tr>\n",
       "    <tr>\n",
       "      <th>5</th>\n",
       "      <td>300</td>\n",
       "      <td>gvponomarev</td>\n",
       "      <td>Analytic</td>\n",
       "      <td>@iashmelev , @inkaraivanova\\n \\n &gt; У нас с Иро...</td>\n",
       "      <td>Вопрос по данным</td>\n",
       "      <td>Вопрос по логике витрины</td>\n",
       "      <td>Ответ</td>\n",
       "      <td>2023-07-10</td>\n",
       "      <td>done</td>\n",
       "    </tr>\n",
       "    <tr>\n",
       "      <th>6</th>\n",
       "      <td>281</td>\n",
       "      <td>vagarkavaya</td>\n",
       "      <td>Analytic</td>\n",
       "      <td>Привет! Помогите пожалуйста разобраться с флаг...</td>\n",
       "      <td>Вопрос по данным</td>\n",
       "      <td>Вопрос по логике витрины</td>\n",
       "      <td>Ответ</td>\n",
       "      <td>2023-06-30</td>\n",
       "      <td>done</td>\n",
       "    </tr>\n",
       "    <tr>\n",
       "      <th>7</th>\n",
       "      <td>434</td>\n",
       "      <td>aazakharov</td>\n",
       "      <td>ASD KAM</td>\n",
       "      <td>Коллеги, привет.\\n У нашего клиента - [6168966...</td>\n",
       "      <td>Вопрос по отчету</td>\n",
       "      <td>Вопрос по логике отчета</td>\n",
       "      <td>Ответ</td>\n",
       "      <td>2023-08-28</td>\n",
       "      <td>done</td>\n",
       "    </tr>\n",
       "    <tr>\n",
       "      <th>8</th>\n",
       "      <td>298</td>\n",
       "      <td>asazarin</td>\n",
       "      <td>ASD KAM</td>\n",
       "      <td>Коллеги, доброе утро.\\n \\n Сводный отчёт - htt...</td>\n",
       "      <td>Вопрос по отчету</td>\n",
       "      <td>Вопрос по логике отчета</td>\n",
       "      <td>Ответ</td>\n",
       "      <td>2023-07-10</td>\n",
       "      <td>done</td>\n",
       "    </tr>\n",
       "    <tr>\n",
       "      <th>9</th>\n",
       "      <td>372</td>\n",
       "      <td>vvdergilev</td>\n",
       "      <td>Analytic</td>\n",
       "      <td>Привет! Подскажите откуда лучше всего взять те...</td>\n",
       "      <td>Вопрос по данным</td>\n",
       "      <td>Вопрос по наличию данных</td>\n",
       "      <td>Ответ</td>\n",
       "      <td>2023-08-07</td>\n",
       "      <td>done</td>\n",
       "    </tr>\n",
       "  </tbody>\n",
       "</table>\n",
       "</div>"
      ],
      "text/plain": [
       "   index     user_name user_group_id  \\\n",
       "0    241    rostepanov   ASD Project   \n",
       "1    408  epkuznetsova   ASD Project   \n",
       "2    237   assementsov      Analytic   \n",
       "3    390    rostepanov   ASD Project   \n",
       "4    240    aadenisova      Analytic   \n",
       "5    300   gvponomarev      Analytic   \n",
       "6    281   vagarkavaya      Analytic   \n",
       "7    434    aazakharov       ASD KAM   \n",
       "8    298      asazarin       ASD KAM   \n",
       "9    372    vvdergilev      Analytic   \n",
       "\n",
       "                                             message  \\\n",
       "0  Привет!\\n в отчете [Аквизишн Овервью](https://...   \n",
       "1  Привет!\\n Сейчас тестируем в команде Хантеры c...   \n",
       "2  Гриша, привет\\n подскажи пожалуйста, считаем л...   \n",
       "3  Коллеги, привет!\\n Отчет [Аквизишн овервью](ht...   \n",
       "4  Коллеги, привет! \\n Подскажите, где в витринах...   \n",
       "5  @iashmelev , @inkaraivanova\\n \\n > У нас с Иро...   \n",
       "6  Привет! Помогите пожалуйста разобраться с флаг...   \n",
       "7  Коллеги, привет.\\n У нашего клиента - [6168966...   \n",
       "8  Коллеги, доброе утро.\\n \\n Сводный отчёт - htt...   \n",
       "9  Привет! Подскажите откуда лучше всего взять те...   \n",
       "\n",
       "                                           Task type  \\\n",
       "0                                   Вопрос по данным   \n",
       "1  Запрос на корректировку отчета / некорректная ...   \n",
       "2                                   Вопрос по данным   \n",
       "3                                   Вопрос по данным   \n",
       "4                                   Вопрос по данным   \n",
       "5                                   Вопрос по данным   \n",
       "6                                   Вопрос по данным   \n",
       "7                                   Вопрос по отчету   \n",
       "8                                   Вопрос по отчету   \n",
       "9                                   Вопрос по данным   \n",
       "\n",
       "                            Task subtype  \\\n",
       "0                Вопрос по логике отчета   \n",
       "1  Вопрос о возможности доработки отчета   \n",
       "2              Вопрос по данным битрикса   \n",
       "3                Вопрос по логике отчета   \n",
       "4               Вопрос по логике витрины   \n",
       "5               Вопрос по логике витрины   \n",
       "6               Вопрос по логике витрины   \n",
       "7                Вопрос по логике отчета   \n",
       "8                Вопрос по логике отчета   \n",
       "9               Вопрос по наличию данных   \n",
       "\n",
       "                                 Resolution  event_date task_status  \n",
       "0                                     Ответ  2023-06-19        done  \n",
       "1  Доработка не реальна на момент обращения  2023-08-17        done  \n",
       "2                                     Ответ  2023-06-16        done  \n",
       "3                                     Ответ  2023-08-14        done  \n",
       "4                                     Ответ  2023-06-16        done  \n",
       "5                                     Ответ  2023-07-10        done  \n",
       "6                                     Ответ  2023-06-30        done  \n",
       "7                                     Ответ  2023-08-28        done  \n",
       "8                                     Ответ  2023-07-10        done  \n",
       "9                                     Ответ  2023-08-07        done  "
      ]
     },
     "execution_count": 69,
     "metadata": {},
     "output_type": "execute_result"
    }
   ],
   "source": [
    "input_data2.head(10)"
   ]
  },
  {
   "cell_type": "code",
   "execution_count": 70,
   "id": "147cb904",
   "metadata": {},
   "outputs": [],
   "source": [
    "input_data2 = input_data2[['Task type', 'message']]"
   ]
  },
  {
   "cell_type": "code",
   "execution_count": 71,
   "id": "43f17d0c",
   "metadata": {},
   "outputs": [],
   "source": [
    "x_train, x_test, y_train, y_test = train_test_split(input_data2['message'], input_data2['Task type'], test_size=0.3, random_state=1)"
   ]
  },
  {
   "cell_type": "code",
   "execution_count": 72,
   "id": "a373d3b6",
   "metadata": {},
   "outputs": [],
   "source": [
    "model_pipeline = Pipeline([\n",
    "    ('vectorizer', TfidfVectorizer(tokenizer=lambda x: tokenizer(x))),\n",
    "    ('model', DecisionTreeClassifier(\n",
    "        criterion='entropy',  # Выберите нужный критерий (gini или entropy)\n",
    "        max_depth=5,       # Настройте максимальную глубину\n",
    "        min_samples_split=2,\n",
    "        min_samples_leaf=1,\n",
    "        max_features=None,\n",
    "        splitter='best',\n",
    "        min_impurity_decrease=0.0\n",
    "    ))\n",
    "]\n",
    ")"
   ]
  },
  {
   "cell_type": "code",
   "execution_count": 73,
   "id": "adcbe7b0",
   "metadata": {},
   "outputs": [
    {
     "data": {
      "text/plain": [
       "Pipeline(steps=[('vectorizer',\n",
       "                 TfidfVectorizer(tokenizer=<function <lambda> at 0x000002711CCC38B0>)),\n",
       "                ('model',\n",
       "                 DecisionTreeClassifier(criterion='entropy', max_depth=5))])"
      ]
     },
     "execution_count": 73,
     "metadata": {},
     "output_type": "execute_result"
    }
   ],
   "source": [
    "model_pipeline.fit(x_train, y_train)"
   ]
  },
  {
   "cell_type": "code",
   "execution_count": 74,
   "id": "cea04db5",
   "metadata": {
    "scrolled": true
   },
   "outputs": [
    {
     "name": "stdout",
     "output_type": "stream",
     "text": [
      "                                                             precision    recall  f1-score   support\n",
      "\n",
      "                                                    Forward       0.67      0.27      0.38        15\n",
      "                                           Вопрос по данным       0.23      0.92      0.37        12\n",
      "                                           Вопрос по отчету       0.00      0.00      0.00        15\n",
      "                                      Вопрос по план/фактам       0.33      0.11      0.17         9\n",
      "                                  Вопрос по составу команды       0.00      0.00      0.00         5\n",
      "                                                   Выгрузка       0.00      0.00      0.00         1\n",
      "                                                    Доступы       0.00      0.00      0.00         3\n",
      "Запрос на корректировку отчета / некорректная работа отчета       0.20      0.18      0.19        11\n",
      "\n",
      "                                                   accuracy                           0.25        71\n",
      "                                                  macro avg       0.18      0.18      0.14        71\n",
      "                                               weighted avg       0.25      0.25      0.19        71\n",
      "\n"
     ]
    },
    {
     "name": "stderr",
     "output_type": "stream",
     "text": [
      "C:\\Users\\yuriy\\anaconda3\\lib\\site-packages\\sklearn\\metrics\\_classification.py:1318: UndefinedMetricWarning: Precision and F-score are ill-defined and being set to 0.0 in labels with no predicted samples. Use `zero_division` parameter to control this behavior.\n",
      "  _warn_prf(average, modifier, msg_start, len(result))\n",
      "C:\\Users\\yuriy\\anaconda3\\lib\\site-packages\\sklearn\\metrics\\_classification.py:1318: UndefinedMetricWarning: Precision and F-score are ill-defined and being set to 0.0 in labels with no predicted samples. Use `zero_division` parameter to control this behavior.\n",
      "  _warn_prf(average, modifier, msg_start, len(result))\n",
      "C:\\Users\\yuriy\\anaconda3\\lib\\site-packages\\sklearn\\metrics\\_classification.py:1318: UndefinedMetricWarning: Precision and F-score are ill-defined and being set to 0.0 in labels with no predicted samples. Use `zero_division` parameter to control this behavior.\n",
      "  _warn_prf(average, modifier, msg_start, len(result))\n"
     ]
    }
   ],
   "source": [
    "print(classification_report(y_test, model_pipeline.predict(x_test)))"
   ]
  },
  {
   "cell_type": "code",
   "execution_count": 75,
   "id": "9b81cea2",
   "metadata": {},
   "outputs": [],
   "source": [
    "cv_result =  cross_val_score(model_pipeline, x_train, y_train, cv=5 )"
   ]
  },
  {
   "cell_type": "code",
   "execution_count": 76,
   "id": "27872645",
   "metadata": {},
   "outputs": [
    {
     "name": "stdout",
     "output_type": "stream",
     "text": [
      "[0.24242424 0.27272727 0.12121212 0.18181818 0.25      ]\n"
     ]
    }
   ],
   "source": [
    "print(cv_result)"
   ]
  },
  {
   "cell_type": "code",
   "execution_count": 77,
   "id": "755b2dd4",
   "metadata": {},
   "outputs": [],
   "source": [
    "param_grid = {\n",
    "    'criterion': ['gini', 'entropy'],\n",
    "    'max_depth': [3,4,5,6,7,8],\n",
    "    'min_samples_split' : [2],\n",
    "    'min_samples_leaf' : [1]\n",
    "}\n",
    "\n",
    "# Создайте конвейер с Grid Search для модели SVC\n",
    "grid_pipeline = Pipeline([\n",
    "    (\"vectorizer\", TfidfVectorizer(tokenizer=lambda x: tokenizer(x))),\n",
    "    (\"model\",\n",
    "     GridSearchCV(\n",
    "        DecisionTreeClassifier(),\n",
    "        param_grid=param_grid,\n",
    "        cv=5,\n",
    "        verbose=4\n",
    "        )\n",
    "    )\n",
    "])"
   ]
  },
  {
   "cell_type": "code",
   "execution_count": 78,
   "id": "b70b1810",
   "metadata": {},
   "outputs": [
    {
     "name": "stdout",
     "output_type": "stream",
     "text": [
      "Fitting 5 folds for each of 12 candidates, totalling 60 fits\n",
      "[CV 1/5] END criterion=gini, max_depth=3, min_samples_leaf=1, min_samples_split=2;, score=0.242 total time=   0.0s\n",
      "[CV 2/5] END criterion=gini, max_depth=3, min_samples_leaf=1, min_samples_split=2;, score=0.242 total time=   0.0s\n",
      "[CV 3/5] END criterion=gini, max_depth=3, min_samples_leaf=1, min_samples_split=2;, score=0.182 total time=   0.0s\n",
      "[CV 4/5] END criterion=gini, max_depth=3, min_samples_leaf=1, min_samples_split=2;, score=0.212 total time=   0.0s\n",
      "[CV 5/5] END criterion=gini, max_depth=3, min_samples_leaf=1, min_samples_split=2;, score=0.281 total time=   0.0s\n",
      "[CV 1/5] END criterion=gini, max_depth=4, min_samples_leaf=1, min_samples_split=2;, score=0.273 total time=   0.0s\n",
      "[CV 2/5] END criterion=gini, max_depth=4, min_samples_leaf=1, min_samples_split=2;, score=0.242 total time=   0.0s\n",
      "[CV 3/5] END criterion=gini, max_depth=4, min_samples_leaf=1, min_samples_split=2;, score=0.152 total time=   0.0s\n",
      "[CV 4/5] END criterion=gini, max_depth=4, min_samples_leaf=1, min_samples_split=2;, score=0.212 total time=   0.0s\n",
      "[CV 5/5] END criterion=gini, max_depth=4, min_samples_leaf=1, min_samples_split=2;, score=0.188 total time=   0.0s\n",
      "[CV 1/5] END criterion=gini, max_depth=5, min_samples_leaf=1, min_samples_split=2;, score=0.333 total time=   0.0s\n",
      "[CV 2/5] END criterion=gini, max_depth=5, min_samples_leaf=1, min_samples_split=2;, score=0.212 total time=   0.0s\n",
      "[CV 3/5] END criterion=gini, max_depth=5, min_samples_leaf=1, min_samples_split=2;, score=0.212 total time=   0.0s\n",
      "[CV 4/5] END criterion=gini, max_depth=5, min_samples_leaf=1, min_samples_split=2;, score=0.212 total time=   0.0s\n",
      "[CV 5/5] END criterion=gini, max_depth=5, min_samples_leaf=1, min_samples_split=2;, score=0.250 total time=   0.0s\n",
      "[CV 1/5] END criterion=gini, max_depth=6, min_samples_leaf=1, min_samples_split=2;, score=0.333 total time=   0.0s\n",
      "[CV 2/5] END criterion=gini, max_depth=6, min_samples_leaf=1, min_samples_split=2;, score=0.273 total time=   0.0s\n",
      "[CV 3/5] END criterion=gini, max_depth=6, min_samples_leaf=1, min_samples_split=2;, score=0.212 total time=   0.0s\n",
      "[CV 4/5] END criterion=gini, max_depth=6, min_samples_leaf=1, min_samples_split=2;, score=0.212 total time=   0.0s\n",
      "[CV 5/5] END criterion=gini, max_depth=6, min_samples_leaf=1, min_samples_split=2;, score=0.312 total time=   0.0s\n",
      "[CV 1/5] END criterion=gini, max_depth=7, min_samples_leaf=1, min_samples_split=2;, score=0.273 total time=   0.0s\n",
      "[CV 2/5] END criterion=gini, max_depth=7, min_samples_leaf=1, min_samples_split=2;, score=0.182 total time=   0.0s\n",
      "[CV 3/5] END criterion=gini, max_depth=7, min_samples_leaf=1, min_samples_split=2;, score=0.212 total time=   0.0s\n",
      "[CV 4/5] END criterion=gini, max_depth=7, min_samples_leaf=1, min_samples_split=2;, score=0.212 total time=   0.0s\n",
      "[CV 5/5] END criterion=gini, max_depth=7, min_samples_leaf=1, min_samples_split=2;, score=0.250 total time=   0.0s\n",
      "[CV 1/5] END criterion=gini, max_depth=8, min_samples_leaf=1, min_samples_split=2;, score=0.242 total time=   0.0s\n",
      "[CV 2/5] END criterion=gini, max_depth=8, min_samples_leaf=1, min_samples_split=2;, score=0.152 total time=   0.0s\n",
      "[CV 3/5] END criterion=gini, max_depth=8, min_samples_leaf=1, min_samples_split=2;, score=0.242 total time=   0.0s\n",
      "[CV 4/5] END criterion=gini, max_depth=8, min_samples_leaf=1, min_samples_split=2;, score=0.212 total time=   0.0s\n",
      "[CV 5/5] END criterion=gini, max_depth=8, min_samples_leaf=1, min_samples_split=2;, score=0.156 total time=   0.0s\n",
      "[CV 1/5] END criterion=entropy, max_depth=3, min_samples_leaf=1, min_samples_split=2;, score=0.212 total time=   0.0s\n",
      "[CV 2/5] END criterion=entropy, max_depth=3, min_samples_leaf=1, min_samples_split=2;, score=0.273 total time=   0.0s\n",
      "[CV 3/5] END criterion=entropy, max_depth=3, min_samples_leaf=1, min_samples_split=2;, score=0.152 total time=   0.0s\n",
      "[CV 4/5] END criterion=entropy, max_depth=3, min_samples_leaf=1, min_samples_split=2;, score=0.182 total time=   0.0s\n",
      "[CV 5/5] END criterion=entropy, max_depth=3, min_samples_leaf=1, min_samples_split=2;, score=0.219 total time=   0.0s\n",
      "[CV 1/5] END criterion=entropy, max_depth=4, min_samples_leaf=1, min_samples_split=2;, score=0.212 total time=   0.0s\n",
      "[CV 2/5] END criterion=entropy, max_depth=4, min_samples_leaf=1, min_samples_split=2;, score=0.273 total time=   0.0s\n",
      "[CV 3/5] END criterion=entropy, max_depth=4, min_samples_leaf=1, min_samples_split=2;, score=0.091 total time=   0.0s\n",
      "[CV 4/5] END criterion=entropy, max_depth=4, min_samples_leaf=1, min_samples_split=2;, score=0.152 total time=   0.0s\n",
      "[CV 5/5] END criterion=entropy, max_depth=4, min_samples_leaf=1, min_samples_split=2;, score=0.219 total time=   0.0s\n",
      "[CV 1/5] END criterion=entropy, max_depth=5, min_samples_leaf=1, min_samples_split=2;, score=0.182 total time=   0.0s\n",
      "[CV 2/5] END criterion=entropy, max_depth=5, min_samples_leaf=1, min_samples_split=2;, score=0.303 total time=   0.0s\n",
      "[CV 3/5] END criterion=entropy, max_depth=5, min_samples_leaf=1, min_samples_split=2;, score=0.121 total time=   0.0s\n",
      "[CV 4/5] END criterion=entropy, max_depth=5, min_samples_leaf=1, min_samples_split=2;, score=0.152 total time=   0.0s\n",
      "[CV 5/5] END criterion=entropy, max_depth=5, min_samples_leaf=1, min_samples_split=2;, score=0.312 total time=   0.0s\n",
      "[CV 1/5] END criterion=entropy, max_depth=6, min_samples_leaf=1, min_samples_split=2;, score=0.212 total time=   0.0s\n",
      "[CV 2/5] END criterion=entropy, max_depth=6, min_samples_leaf=1, min_samples_split=2;, score=0.212 total time=   0.0s\n",
      "[CV 3/5] END criterion=entropy, max_depth=6, min_samples_leaf=1, min_samples_split=2;, score=0.273 total time=   0.0s\n",
      "[CV 4/5] END criterion=entropy, max_depth=6, min_samples_leaf=1, min_samples_split=2;, score=0.152 total time=   0.0s\n",
      "[CV 5/5] END criterion=entropy, max_depth=6, min_samples_leaf=1, min_samples_split=2;, score=0.281 total time=   0.0s\n",
      "[CV 1/5] END criterion=entropy, max_depth=7, min_samples_leaf=1, min_samples_split=2;, score=0.273 total time=   0.0s\n",
      "[CV 2/5] END criterion=entropy, max_depth=7, min_samples_leaf=1, min_samples_split=2;, score=0.212 total time=   0.0s\n",
      "[CV 3/5] END criterion=entropy, max_depth=7, min_samples_leaf=1, min_samples_split=2;, score=0.333 total time=   0.0s\n",
      "[CV 4/5] END criterion=entropy, max_depth=7, min_samples_leaf=1, min_samples_split=2;, score=0.182 total time=   0.0s\n",
      "[CV 5/5] END criterion=entropy, max_depth=7, min_samples_leaf=1, min_samples_split=2;, score=0.250 total time=   0.0s\n",
      "[CV 1/5] END criterion=entropy, max_depth=8, min_samples_leaf=1, min_samples_split=2;, score=0.242 total time=   0.0s\n",
      "[CV 2/5] END criterion=entropy, max_depth=8, min_samples_leaf=1, min_samples_split=2;, score=0.212 total time=   0.0s\n",
      "[CV 3/5] END criterion=entropy, max_depth=8, min_samples_leaf=1, min_samples_split=2;, score=0.242 total time=   0.0s\n",
      "[CV 4/5] END criterion=entropy, max_depth=8, min_samples_leaf=1, min_samples_split=2;, score=0.152 total time=   0.0s\n",
      "[CV 5/5] END criterion=entropy, max_depth=8, min_samples_leaf=1, min_samples_split=2;, score=0.281 total time=   0.0s\n"
     ]
    },
    {
     "data": {
      "text/plain": [
       "Pipeline(steps=[('vectorizer',\n",
       "                 TfidfVectorizer(tokenizer=<function <lambda> at 0x0000027120204310>)),\n",
       "                ('model',\n",
       "                 GridSearchCV(cv=5, estimator=DecisionTreeClassifier(),\n",
       "                              param_grid={'criterion': ['gini', 'entropy'],\n",
       "                                          'max_depth': [3, 4, 5, 6, 7, 8],\n",
       "                                          'min_samples_leaf': [1],\n",
       "                                          'min_samples_split': [2]},\n",
       "                              verbose=4))])"
      ]
     },
     "execution_count": 78,
     "metadata": {},
     "output_type": "execute_result"
    }
   ],
   "source": [
    "grid_pipeline.fit(x_train, y_train)"
   ]
  },
  {
   "cell_type": "code",
   "execution_count": null,
   "id": "6380a901",
   "metadata": {},
   "outputs": [],
   "source": []
  },
  {
   "cell_type": "code",
   "execution_count": null,
   "id": "ba91575f",
   "metadata": {},
   "outputs": [],
   "source": []
  }
 ],
 "metadata": {
  "kernelspec": {
   "display_name": "Python 3 (ipykernel)",
   "language": "python",
   "name": "python3"
  },
  "language_info": {
   "codemirror_mode": {
    "name": "ipython",
    "version": 3
   },
   "file_extension": ".py",
   "mimetype": "text/x-python",
   "name": "python",
   "nbconvert_exporter": "python",
   "pygments_lexer": "ipython3",
   "version": "3.9.7"
  }
 },
 "nbformat": 4,
 "nbformat_minor": 5
}
