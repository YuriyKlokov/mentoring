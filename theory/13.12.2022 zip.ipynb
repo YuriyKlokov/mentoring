{
 "cells": [
  {
   "cell_type": "markdown",
   "id": "23ce4faa",
   "metadata": {},
   "source": [
    "#### 13.12.2022 (zip)"
   ]
  },
  {
   "cell_type": "markdown",
   "id": "46b4d143",
   "metadata": {},
   "source": [
    "zip - итерирует несколько итерируемых объектов и возвращает i кортех c i эдементами итерируемых объектовю возвращает итератор тюплов. zip это ленивая функция. по умолчанию количество итерация равно самому меньшему количетсву эдементов в переданных объектах. \n"
   ]
  },
  {
   "cell_type": "markdown",
   "id": "79417de2",
   "metadata": {},
   "source": [
    "можно передать функции strict=True в таком случае zip \n",
    "выдаст ошибку если длина переданных еей обхъектов не одинаковая"
   ]
  },
  {
   "cell_type": "code",
   "execution_count": 2,
   "id": "5c7a0f82",
   "metadata": {},
   "outputs": [
    {
     "name": "stdout",
     "output_type": "stream",
     "text": [
      "[(1, 'p', 'фыва'), (2, 'y', -10), (3, 't', '45')]\n"
     ]
    }
   ],
   "source": [
    "a = [1 , 2, 3, 4]\n",
    "b = 'python'\n",
    "c = ('фыва', -10, '45')\n",
    "print(list(zip(a, b, c)))"
   ]
  },
  {
   "cell_type": "code",
   "execution_count": null,
   "id": "c607d893",
   "metadata": {},
   "outputs": [],
   "source": []
  }
 ],
 "metadata": {
  "kernelspec": {
   "display_name": "Python 3 (ipykernel)",
   "language": "python",
   "name": "python3"
  },
  "language_info": {
   "codemirror_mode": {
    "name": "ipython",
    "version": 3
   },
   "file_extension": ".py",
   "mimetype": "text/x-python",
   "name": "python",
   "nbconvert_exporter": "python",
   "pygments_lexer": "ipython3",
   "version": "3.9.7"
  }
 },
 "nbformat": 4,
 "nbformat_minor": 5
}
