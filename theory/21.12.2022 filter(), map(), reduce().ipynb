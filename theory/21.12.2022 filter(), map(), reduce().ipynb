{
 "cells": [
  {
   "cell_type": "markdown",
   "id": "b1e4a183",
   "metadata": {},
   "source": [
    "#### 21.12.2022 filter(), map(), reduce()"
   ]
  },
  {
   "cell_type": "markdown",
   "id": "e13351e0",
   "metadata": {},
   "source": [
    "map() - принимает функцию и итерируемый объект или несколько итерируемых объектов. \n",
    "Если передвется несколько итерируемых объектов то переданная функция должна принимать столько переменных сколько передано функции map() объектов. Итератор останавливается ктогджа когда исчерпан самый короткий итерируемый объект. \n",
    "\n",
    "функция возвращает объект итератор который применяет переданную функцию.\n",
    "map принимает анонимные функции, самописные функции, методы объектов, встроенные функции."
   ]
  },
  {
   "cell_type": "code",
   "execution_count": 4,
   "id": "a0e79439",
   "metadata": {},
   "outputs": [
    {
     "name": "stdout",
     "output_type": "stream",
     "text": [
      "[1, 4, 9, 16, 25]\n"
     ]
    }
   ],
   "source": [
    "q = [1, 2, 3, 4, 5]\n",
    "def multiply(x):\n",
    "    return x**2 \n",
    "a = map(multiply, q)\n",
    "print(list(a))"
   ]
  },
  {
   "cell_type": "code",
   "execution_count": 5,
   "id": "c98be7b8",
   "metadata": {},
   "outputs": [
    {
     "name": "stdout",
     "output_type": "stream",
     "text": [
      "[1, 4, 9, 16, 25]\n"
     ]
    }
   ],
   "source": [
    "f = map(lambda x, y: x * y , [1,2,3,4,5], [1,2,3,4,5])\n",
    "print(list(f))"
   ]
  },
  {
   "cell_type": "code",
   "execution_count": 6,
   "id": "0c466b1f",
   "metadata": {},
   "outputs": [
    {
     "name": "stdout",
     "output_type": "stream",
     "text": [
      "['H', 'E', 'L', 'L', 'O', ' ', 'W', 'O', 'R', 'L', 'D']\n"
     ]
    }
   ],
   "source": [
    "w = 'hello world'\n",
    "s = map(str.upper, w)\n",
    "print(list(s))"
   ]
  },
  {
   "cell_type": "code",
   "execution_count": 7,
   "id": "c7d5fa9b",
   "metadata": {},
   "outputs": [
    {
     "name": "stdout",
     "output_type": "stream",
     "text": [
      "[15, 40, 65]\n"
     ]
    }
   ],
   "source": [
    "e = [[1, 2, 3, 4, 5], [6, 7, 8, 9, 10], [11, 12, 13, 14, 15]]\n",
    "d = map(sum, e)\n",
    "print(list(d))"
   ]
  },
  {
   "cell_type": "markdown",
   "id": "e167da91",
   "metadata": {},
   "source": [
    "filter() - принимает функцию и итерируемый объект. Функция должна возвращать Ture или False. \n",
    "\n",
    "filter() - оставляет те элементы итерируемого объекта для которых переданная функция возвращает True\n",
    "Если переданая функция Noneб то остаются объекты которые при Truth Value Testing передадут True. (False передадут любые пустые поледовательности или коллекции, 0, None, False)\n",
    "как функцию принимает самописные функции, анонимные функции, встроенные функции, методы объектов"
   ]
  },
  {
   "cell_type": "code",
   "execution_count": 8,
   "id": "93989308",
   "metadata": {},
   "outputs": [
    {
     "name": "stdout",
     "output_type": "stream",
     "text": [
      "[1, 2, 3]\n"
     ]
    }
   ],
   "source": [
    "r = [-3, -2, -1, 0, 1, 2, 3]\n",
    "def positive(x):\n",
    "    return x > 0\n",
    "        \n",
    "f = filter(positive, r)\n",
    "print(list(f))"
   ]
  },
  {
   "cell_type": "code",
   "execution_count": 9,
   "id": "32853da7",
   "metadata": {},
   "outputs": [
    {
     "name": "stdout",
     "output_type": "stream",
     "text": [
      "[-2, 2]\n"
     ]
    }
   ],
   "source": [
    "t = [-3, -2, -1, 0, 1, 2, 3]\n",
    "\n",
    "g = filter(lambda x: x if x%2==0 else False, t)\n",
    "print(list(g))"
   ]
  },
  {
   "cell_type": "code",
   "execution_count": 10,
   "id": "b5ed8c77",
   "metadata": {},
   "outputs": [
    {
     "name": "stdout",
     "output_type": "stream",
     "text": [
      "['1', '9', '8', '9']\n"
     ]
    }
   ],
   "source": [
    "y = 'Taylor Swift: 1989'\n",
    "\n",
    "h = filter(str.isdigit, y)\n",
    "print(list(h))"
   ]
  },
  {
   "cell_type": "code",
   "execution_count": 11,
   "id": "38a711f6",
   "metadata": {},
   "outputs": [
    {
     "name": "stdout",
     "output_type": "stream",
     "text": [
      "[1, '222', (1, 2)]\n"
     ]
    }
   ],
   "source": [
    "u = [0, [], '', 1, '222', (1, 2)]\n",
    "\n",
    "j = filter(bool, u)\n",
    "print(list(j))"
   ]
  },
  {
   "cell_type": "markdown",
   "id": "3b5dd56a",
   "metadata": {},
   "source": [
    "reduce() - функция из встроенной библиотеки functools. Принимает функцию и итерируемый объект и инициализатор. Возвращает одно значение. Передаваяемая функция должна принимать 2 аргумента.\n",
    "\n",
    "reduce() применяет переданную функуцию к первым двум элементам объекта затем переданная функция принимает как первый аргумент перудыдущий результат своей работы а как второй аргумент третий элмент объекта и так далее.\n",
    "\n",
    "можно задать инициализатор который будет передваться как первый аргумент в переданую функцию, а первый элемент объекта в таком случае будет передан вторым аргументом "
   ]
  },
  {
   "cell_type": "code",
   "execution_count": 12,
   "id": "93dcfc68",
   "metadata": {},
   "outputs": [],
   "source": [
    "from functools import reduce"
   ]
  },
  {
   "cell_type": "code",
   "execution_count": 13,
   "id": "c770d721",
   "metadata": {},
   "outputs": [
    {
     "name": "stdout",
     "output_type": "stream",
     "text": [
      "15\n"
     ]
    }
   ],
   "source": [
    "def _sum(x, y):\n",
    "    return x + y\n",
    "\n",
    "i = [1, 2, 3, 4, 5]\n",
    "k = reduce(_sum, i)\n",
    "print(k)"
   ]
  },
  {
   "cell_type": "code",
   "execution_count": 14,
   "id": "b1eaf606",
   "metadata": {},
   "outputs": [
    {
     "name": "stdout",
     "output_type": "stream",
     "text": [
      "-120\n"
     ]
    }
   ],
   "source": [
    "o = (-1, 2, 3, 4, 5)\n",
    "l = reduce(lambda x , y: x*y, o)\n",
    "print(l)"
   ]
  },
  {
   "cell_type": "code",
   "execution_count": 15,
   "id": "342946c4",
   "metadata": {},
   "outputs": [
    {
     "name": "stdout",
     "output_type": "stream",
     "text": [
      "25\n"
     ]
    }
   ],
   "source": [
    "z =  reduce(_sum, i, 10)\n",
    "print(z)"
   ]
  },
  {
   "cell_type": "code",
   "execution_count": null,
   "id": "c3a363f7",
   "metadata": {},
   "outputs": [],
   "source": []
  }
 ],
 "metadata": {
  "kernelspec": {
   "display_name": "Python 3 (ipykernel)",
   "language": "python",
   "name": "python3"
  },
  "language_info": {
   "codemirror_mode": {
    "name": "ipython",
    "version": 3
   },
   "file_extension": ".py",
   "mimetype": "text/x-python",
   "name": "python",
   "nbconvert_exporter": "python",
   "pygments_lexer": "ipython3",
   "version": "3.9.7"
  }
 },
 "nbformat": 4,
 "nbformat_minor": 5
}
