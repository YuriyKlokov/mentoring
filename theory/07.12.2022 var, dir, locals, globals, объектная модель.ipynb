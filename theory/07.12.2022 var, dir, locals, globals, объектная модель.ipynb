{
 "cells": [
  {
   "cell_type": "markdown",
   "id": "2db10355",
   "metadata": {},
   "source": [
    "#### 07.12.2022 (var, dir, locals, globals, объектная модель)"
   ]
  },
  {
   "cell_type": "markdown",
   "id": "3aa369c8",
   "metadata": {},
   "source": [
    "vars() - возвращает словарь для тукущего простарнства имён(если вызвать без аргумента) или словарь относящийся к переданному аргументу"
   ]
  },
  {
   "cell_type": "markdown",
   "id": "795768e4",
   "metadata": {},
   "source": [
    "vars(enumerate)"
   ]
  },
  {
   "cell_type": "markdown",
   "id": "9bd85d0c",
   "metadata": {},
   "source": [
    "locals() - всегда возвращает текущее пространство имен ввиде словаря\n",
    "\n",
    "если locals() вызван внутри функции  то возвращет словарь с переменными пространства имен функции (включая переменные замыкания). Содержание словаря обновляется каждый раз при вызове locals().\n",
    "\n",
    "если locals() вызван снаружи функции то возвращает словарь в текущем пространстве имён. \n"
   ]
  },
  {
   "cell_type": "markdown",
   "id": "cc6b1082",
   "metadata": {},
   "source": [
    "locals() - всегда возвращает текущее пространство имен ввиде словаря\n",
    "\n",
    "если locals() вызван внутри функции  то возвращет словарь с переменными пространства имен функции (включая переменные замыкания). Содержание словаря обновляется каждый раз при вызове locals().\n",
    "\n",
    "если locals() вызван снаружи функции то возвращает словарь в текущем пространстве имён. \n"
   ]
  },
  {
   "cell_type": "code",
   "execution_count": 1,
   "id": "0a93e51c",
   "metadata": {},
   "outputs": [],
   "source": [
    "def func(x: int) -> int:\n",
    "    \"\"\"\n",
    "    This function multuply argument 10 \n",
    "    times and raise to the power of 6\n",
    "    \"\"\"\n",
    "    print(locals())\n",
    "    a = 10\n",
    "    b = 6\n",
    "    print(locals())\n",
    "    return (x * a)**b"
   ]
  },
  {
   "cell_type": "code",
   "execution_count": 38,
   "id": "7fc4b908",
   "metadata": {},
   "outputs": [
    {
     "name": "stdout",
     "output_type": "stream",
     "text": [
      "{'x': 1}\n",
      "{'x': 1, 'a': 10, 'b': 6}\n"
     ]
    },
    {
     "data": {
      "text/plain": [
       "1000000"
      ]
     },
     "execution_count": 38,
     "metadata": {},
     "output_type": "execute_result"
    }
   ],
   "source": [
    "func(1)"
   ]
  },
  {
   "cell_type": "markdown",
   "id": "93c65d31",
   "metadata": {},
   "source": [
    "globals() - всегда возвращает словарь пространства имён модуля."
   ]
  },
  {
   "cell_type": "markdown",
   "id": "c466f1af",
   "metadata": {},
   "source": [
    "dir() - без аргумента возвращает лист с именами в текущем локальном пространстве\n",
    "С аргументом вернет список допустимых атрибутов объекта.\n",
    "Берет данные из метода __dir__() если он есть у объекта, елси нет попробует \n",
    "взять информацию из  атрибута __dict__.\n",
    "если объект это модуль то вернет список всех имен атрибутов модуля \n",
    "если объект это класс то вренет все атрибуты класса включая атрибуты родительского класса "
   ]
  },
  {
   "cell_type": "code",
   "execution_count": null,
   "id": "4459a256",
   "metadata": {},
   "outputs": [],
   "source": [
    "dir()"
   ]
  },
  {
   "cell_type": "code",
   "execution_count": null,
   "id": "53e16e33",
   "metadata": {},
   "outputs": [],
   "source": [
    "dir(int)"
   ]
  },
  {
   "cell_type": "markdown",
   "id": "f6325d83",
   "metadata": {},
   "source": [
    "объектная модель в питоне:\n",
    "\n",
    "Все данные в питоне представлены объектами или связами между ними.\n",
    "у каждого объекта есть:\n",
    "- identity\n",
    "- type \n",
    "- value"
   ]
  },
  {
   "cell_type": "markdown",
   "id": "505203bb",
   "metadata": {},
   "source": [
    "identity - никогда не меняется у объекта. Функцией id() можно узнать представление identity у объекта. Это как бы адрес объекта в памяти."
   ]
  },
  {
   "cell_type": "markdown",
   "id": "c436cfec",
   "metadata": {},
   "source": [
    "type - определяет операции которяе поддреживает объект и возомжные его значения. тип объекта не изменяем. "
   ]
  },
  {
   "cell_type": "markdown",
   "id": "a3144000",
   "metadata": {},
   "source": [
    "value - значение объекта. может быть изменяемым и не изменяемым. при этом важно что неизменяемось immutability относится к коллекции которая входит в объект а не к значениям. Пример: кортеж содержащий список "
   ]
  },
  {
   "cell_type": "code",
   "execution_count": null,
   "id": "8b0da7d3",
   "metadata": {},
   "outputs": [],
   "source": []
  }
 ],
 "metadata": {
  "kernelspec": {
   "display_name": "Python 3 (ipykernel)",
   "language": "python",
   "name": "python3"
  },
  "language_info": {
   "codemirror_mode": {
    "name": "ipython",
    "version": 3
   },
   "file_extension": ".py",
   "mimetype": "text/x-python",
   "name": "python",
   "nbconvert_exporter": "python",
   "pygments_lexer": "ipython3",
   "version": "3.9.7"
  }
 },
 "nbformat": 4,
 "nbformat_minor": 5
}
