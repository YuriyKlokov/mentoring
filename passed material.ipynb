{
 "cells": [
  {
   "attachments": {},
   "cell_type": "markdown",
   "id": "589fe40d",
   "metadata": {},
   "source": [
    "## Срез пройденного материала"
   ]
  },
  {
   "cell_type": "markdown",
   "id": "1624d7d4",
   "metadata": {},
   "source": [
    "### Build-in function:"
   ]
  },
  {
   "attachments": {},
   "cell_type": "markdown",
   "id": "3e5d502f",
   "metadata": {},
   "source": [
    "- abs()\n",
    "- all()\n",
    "- any()\n",
    "- ascii()\n",
    "- bin()\n",
    "- bool()\n",
    "- callable()\n",
    "- dict()\n",
    "- dir()\n",
    "- divmod()\n",
    "- enumerate()\n",
    "- filter()\n",
    "- float()\n",
    "- format()\n",
    "- globals()\n",
    "- help()\n",
    "- id()\n",
    "- iter()\n",
    "- len()\n",
    "- list()\n",
    "- locals()\n",
    "- map()\n",
    "- max()\n",
    "- min()\n",
    "- next()\n",
    "- ord()\n",
    "- pow()\n",
    "- print()\n",
    "- range()\n",
    "- reversed()\n",
    "- round()\n",
    "- sorted()\n",
    "- str()\n",
    "- sum()\n",
    "- tuple()\n",
    "- type()\n",
    "- zip()"
   ]
  },
  {
   "attachments": {},
   "cell_type": "markdown",
   "id": "c8ebe4f9",
   "metadata": {},
   "source": [
    "### Функции из модулей:"
   ]
  },
  {
   "attachments": {},
   "cell_type": "markdown",
   "id": "edadeffa",
   "metadata": {},
   "source": [
    "functools:\n",
    " - reduce \n",
    "\n",
    "collections:\n",
    " - Counter\n",
    " - defaultdict"
   ]
  },
  {
   "cell_type": "markdown",
   "id": "202ee3f1",
   "metadata": {},
   "source": [
    "### Типы данных:"
   ]
  },
  {
   "cell_type": "markdown",
   "id": "aff883b4",
   "metadata": {},
   "source": [
    "- dictionary \n",
    "- list\n",
    "- tuple "
   ]
  },
  {
   "attachments": {},
   "cell_type": "markdown",
   "id": "3389e720",
   "metadata": {},
   "source": [
    "### Функциональное программирование:"
   ]
  },
  {
   "attachments": {},
   "cell_type": "markdown",
   "id": "d8775765",
   "metadata": {},
   "source": [
    "- Функциональное программирование:\n",
    "- Анонимные функции\n",
    "- Nested Function \n",
    "- Замыкание\n",
    "- Мемоизация \n",
    "- Аргументы в функциях \n",
    "- Декораторы!"
   ]
  },
  {
   "cell_type": "markdown",
   "id": "51890a16",
   "metadata": {},
   "source": [
    "### Прочее:"
   ]
  },
  {
   "cell_type": "markdown",
   "id": "8939b4b9",
   "metadata": {},
   "source": [
    "- KISS и TRY\n",
    "- f-string\n",
    "- XOR\n",
    "- Генераторы и yield\n",
    "- Итерируемые объекты и итераторы\n",
    "- Black линтер\n",
    "- Замыкание \n",
    "- Генераторы\n",
    "- Test Driven Development\n",
    "- LEGB\n",
    "- Типизация \n",
    "- Распаковка\n",
    "- Основы объектной модели питона"
   ]
  },
  {
   "cell_type": "code",
   "execution_count": null,
   "id": "b9c14587",
   "metadata": {},
   "outputs": [],
   "source": []
  }
 ],
 "metadata": {
  "kernelspec": {
   "display_name": "Python 3 (ipykernel)",
   "language": "python",
   "name": "python3"
  },
  "language_info": {
   "codemirror_mode": {
    "name": "ipython",
    "version": 3
   },
   "file_extension": ".py",
   "mimetype": "text/x-python",
   "name": "python",
   "nbconvert_exporter": "python",
   "pygments_lexer": "ipython3",
   "version": "3.9.7"
  }
 },
 "nbformat": 4,
 "nbformat_minor": 5
}
