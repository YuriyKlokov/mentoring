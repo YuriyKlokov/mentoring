{
 "cells": [
  {
   "attachments": {},
   "cell_type": "markdown",
   "id": "d7b367e8",
   "metadata": {},
   "source": [
    "## Срез пройденного материала"
   ]
  },
  {
   "cell_type": "markdown",
   "id": "008585ad",
   "metadata": {},
   "source": [
    "### Build-in function:"
   ]
  },
  {
   "attachments": {},
   "cell_type": "markdown",
   "id": "ffc2611f",
   "metadata": {},
   "source": [
    "- abs()\n",
    "- all()\n",
    "- any()\n",
    "- ascii()\n",
    "- bin()\n",
    "- bool()\n",
    "- callable()\n",
    "- dict()\n",
    "- dir()\n",
    "- divmod()\n",
    "- enumerate()\n",
    "- filter()\n",
    "- float()\n",
    "- format()\n",
    "- globals()\n",
    "- help()\n",
    "- id()\n",
    "- iter()\n",
    "- len()\n",
    "- list()\n",
    "- locals()\n",
    "- map()\n",
    "- max()\n",
    "- min()\n",
    "- next()\n",
    "- ord()\n",
    "- pow()\n",
    "- print()\n",
    "- range()\n",
    "- reversed()\n",
    "- round()\n",
    "- sorted()\n",
    "- str()\n",
    "- sum()\n",
    "- tuple()\n",
    "- type()\n",
    "- zip()"
   ]
  },
  {
   "attachments": {},
   "cell_type": "markdown",
   "id": "7f65f9a8",
   "metadata": {},
   "source": [
    "### Функции из модулей:"
   ]
  },
  {
   "attachments": {},
   "cell_type": "markdown",
   "id": "1c537fdb",
   "metadata": {},
   "source": [
    "functools:\n",
    " - reduce \n",
    "\n",
    "collections:\n",
    " - Counter\n",
    " - defaultdict"
   ]
  },
  {
   "cell_type": "markdown",
   "id": "3c8de5bf",
   "metadata": {},
   "source": [
    "### Типы данных:"
   ]
  },
  {
   "cell_type": "markdown",
   "id": "023d902f",
   "metadata": {},
   "source": [
    "- dictionary \n",
    "- list\n",
    "- tuple "
   ]
  },
  {
   "attachments": {},
   "cell_type": "markdown",
   "id": "81ad4021",
   "metadata": {},
   "source": [
    "### Функциональное программирование:"
   ]
  },
  {
   "attachments": {},
   "cell_type": "markdown",
   "id": "090a0555",
   "metadata": {},
   "source": [
    "- Функциональное программирование:\n",
    "- Анонимные функции\n",
    "- Nested Function \n",
    "- Замыкание\n",
    "- Мемоизация \n",
    "- Аргументы в функциях \n",
    "- Декораторы"
   ]
  },
  {
   "cell_type": "markdown",
   "id": "fa73107a",
   "metadata": {},
   "source": [
    "### Прочее:"
   ]
  },
  {
   "cell_type": "markdown",
   "id": "b720af3b",
   "metadata": {},
   "source": [
    "- KISS и TRY\n",
    "- f-string\n",
    "- XOR\n",
    "- Генераторы и yield\n",
    "- Итерируемые объекты и итераторы\n",
    "- Black линтер\n",
    "- Замыкание \n",
    "- Генераторы\n",
    "- Test Driven Development\n",
    "- LEGB\n",
    "- Типизация \n",
    "- Распаковка\n",
    "- Основы объектной модели питона"
   ]
  },
  {
   "cell_type": "code",
   "execution_count": null,
   "id": "62985adf",
   "metadata": {},
   "outputs": [],
   "source": []
  }
 ],
 "metadata": {
  "kernelspec": {
   "display_name": "Python 3 (ipykernel)",
   "language": "python",
   "name": "python3"
  },
  "language_info": {
   "codemirror_mode": {
    "name": "ipython",
    "version": 3
   },
   "file_extension": ".py",
   "mimetype": "text/x-python",
   "name": "python",
   "nbconvert_exporter": "python",
   "pygments_lexer": "ipython3",
   "version": "3.9.7"
  }
 },
 "nbformat": 4,
 "nbformat_minor": 5
}
