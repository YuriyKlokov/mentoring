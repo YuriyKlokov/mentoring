{
 "cells": [
  {
   "cell_type": "markdown",
   "id": "2ac850c7",
   "metadata": {},
   "source": [
    "## Содержание "
   ]
  },
  {
   "cell_type": "markdown",
   "id": "426d6f41",
   "metadata": {},
   "source": [
    "### [07.12.2022 (var, dir, locals, globals, объектная модель )](#1)\n",
    "### [13.12.2022 (zip)](#2)\n"
   ]
  },
  {
   "cell_type": "markdown",
   "id": "a1873041",
   "metadata": {},
   "source": [
    "#### 07.12.2022 (var, dir, locals, globals, объектная модель ) <a id = '1'>"
   ]
  },
  {
   "cell_type": "markdown",
   "id": "7d0f98b3",
   "metadata": {},
   "source": [
    "vars() - возвращает словарь для тукущего простарнства имён(если вызвать без аргумента) или словарь относящийся к переданному аргументу"
   ]
  },
  {
   "cell_type": "markdown",
   "id": "b4f1c636",
   "metadata": {},
   "source": [
    "vars(enumerate)"
   ]
  },
  {
   "cell_type": "markdown",
   "id": "64c6fe13",
   "metadata": {},
   "source": [
    "locals() - всегда возвращает текущее пространство имен ввиде словаря\n",
    "\n",
    "если locals() вызван внутри функции  то возвращет словарь с переменными пространства имен функции (включая переменные замыкания). Содержание словаря обновляется каждый раз при вызове locals().\n",
    "\n",
    "если locals() вызван снаружи функции то возвращает словарь в текущем пространстве имён. \n"
   ]
  },
  {
   "cell_type": "code",
   "execution_count": 37,
   "id": "08502c5d",
   "metadata": {},
   "outputs": [],
   "source": [
    "def func(x: int) -> int:\n",
    "    \"\"\"\n",
    "    This function multuply argument 10 \n",
    "    times and raise to the power of 6\n",
    "    \"\"\"\n",
    "    print(locals())\n",
    "    a = 10\n",
    "    b = 6\n",
    "    print(locals())\n",
    "    return (x * a)**b"
   ]
  },
  {
   "cell_type": "code",
   "execution_count": 38,
   "id": "d1db7810",
   "metadata": {},
   "outputs": [
    {
     "name": "stdout",
     "output_type": "stream",
     "text": [
      "{'x': 1}\n",
      "{'x': 1, 'a': 10, 'b': 6}\n"
     ]
    },
    {
     "data": {
      "text/plain": [
       "1000000"
      ]
     },
     "execution_count": 38,
     "metadata": {},
     "output_type": "execute_result"
    }
   ],
   "source": [
    "func(1)"
   ]
  },
  {
   "cell_type": "markdown",
   "id": "32dae4d7",
   "metadata": {},
   "source": [
    "globals() - всегда возвращает словарь пространства имён модуля."
   ]
  },
  {
   "cell_type": "markdown",
   "id": "0856c00a",
   "metadata": {},
   "source": [
    "dir() - без аргумента возвращает лист с именами в текущем локальном пространстве\n",
    "С аргументом вернет список допустимых атрибутов объекта.\n",
    "Берет данные из метода __dir__() если он есть у объекта, елси нет попробует \n",
    "взять информацию из  атрибута __dict__.\n",
    "если объект это модуль то вернет список всех имен атрибутов модуля \n",
    "если объект это класс то вренет все атрибуты класса включая атрибуты родительского класса "
   ]
  },
  {
   "cell_type": "code",
   "execution_count": null,
   "id": "7c31bcd7",
   "metadata": {},
   "outputs": [],
   "source": [
    "dir()"
   ]
  },
  {
   "cell_type": "code",
   "execution_count": null,
   "id": "f3292a5f",
   "metadata": {},
   "outputs": [],
   "source": [
    "dir(int)"
   ]
  },
  {
   "cell_type": "markdown",
   "id": "ff1e43b4",
   "metadata": {},
   "source": [
    "объектная модель в питоне:\n",
    "\n",
    "Все данные в питоне представлены объектами или связами между ними.\n",
    "у каждого объекта есть:\n",
    "- identity\n",
    "- type \n",
    "- value"
   ]
  },
  {
   "cell_type": "markdown",
   "id": "b4062345",
   "metadata": {},
   "source": [
    "identity - никогда не меняется у объекта. Функцией id() можно узнать представление identity у объекта. Это как бы адрес объекта в памяти."
   ]
  },
  {
   "cell_type": "markdown",
   "id": "dab0393a",
   "metadata": {},
   "source": [
    "type - определяет операции которяе поддреживает объект и возомжные его значения. тип объекта не изменяем. "
   ]
  },
  {
   "cell_type": "markdown",
   "id": "a32c6830",
   "metadata": {},
   "source": [
    "value - значение объекта. может быть изменяемым и не изменяемым. при этом важно что неизменяемось immutability относится к коллекции которая входит в объект а не к значениям. Пример: кортеж содержащий список "
   ]
  },
  {
   "cell_type": "markdown",
   "id": "03513419",
   "metadata": {},
   "source": [
    "#### 13.12.2022 (zip) <a id = '2'>"
   ]
  },
  {
   "cell_type": "markdown",
   "id": "2658c6ac",
   "metadata": {},
   "source": [
    "zip - итерирует несколько итерируемых объектов и возвращает i кортех c i эдементами итерируемых объектовю возвращает итератор тюплов. zip это ленивая функция. по умолчанию количество итерация равно самому меньшему количетсву эдементов в переданных объектах. \n"
   ]
  },
  {
   "cell_type": "markdown",
   "id": "d772595c",
   "metadata": {},
   "source": [
    "можно передать функции strict=True в таком случае zip \n",
    "выдаст ошибку если длина переданных еей обхъектов не одинаковая"
   ]
  },
  {
   "cell_type": "code",
   "execution_count": 36,
   "id": "446e7727",
   "metadata": {},
   "outputs": [
    {
     "name": "stdout",
     "output_type": "stream",
     "text": [
      "[(1, 'p', 'фыва'), (2, 'y', -10), (3, 't', '45')]\n"
     ]
    }
   ],
   "source": [
    "a = [1 , 2, 3, 4]\n",
    "b = 'python'\n",
    "c = ('фыва', -10, '45')\n",
    "print(list(zip(a, b, c)))"
   ]
  },
  {
   "cell_type": "code",
   "execution_count": null,
   "id": "ca746a6c",
   "metadata": {},
   "outputs": [],
   "source": []
  }
 ],
 "metadata": {
  "kernelspec": {
   "display_name": "Python 3 (ipykernel)",
   "language": "python",
   "name": "python3"
  },
  "language_info": {
   "codemirror_mode": {
    "name": "ipython",
    "version": 3
   },
   "file_extension": ".py",
   "mimetype": "text/x-python",
   "name": "python",
   "nbconvert_exporter": "python",
   "pygments_lexer": "ipython3",
   "version": "3.9.7"
  }
 },
 "nbformat": 4,
 "nbformat_minor": 5
}
